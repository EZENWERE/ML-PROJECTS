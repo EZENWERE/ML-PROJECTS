{
 "cells": [
  {
   "cell_type": "markdown",
   "id": "b2d15533-cba6-48e1-854e-0169c9d790bf",
   "metadata": {},
   "source": [
    "NEW PROJECT\n"
   ]
  },
  {
   "cell_type": "markdown",
   "id": "18dae8a8-aa4a-41ea-b38f-426de8df8c98",
   "metadata": {},
   "source": [
    "![_](6-step-ml-framework.png)"
   ]
  },
  {
   "cell_type": "markdown",
   "id": "008ed8f4-35f5-4967-b93a-fdd9087661b7",
   "metadata": {},
   "source": [
    "## 1.PROBLEM DEFINITION\n",
    "Predict heart disease"
   ]
  },
  {
   "cell_type": "code",
   "execution_count": null,
   "id": "42cb3c66-86fc-4d0c-8526-9742436f35d7",
   "metadata": {},
   "outputs": [],
   "source": []
  },
  {
   "cell_type": "code",
   "execution_count": null,
   "id": "e0398ad1-d4e6-42c6-baf5-0828b778566f",
   "metadata": {},
   "outputs": [],
   "source": []
  },
  {
   "cell_type": "code",
   "execution_count": null,
   "id": "0105075f-47fc-490d-9715-d15484111754",
   "metadata": {},
   "outputs": [],
   "source": []
  },
  {
   "cell_type": "markdown",
   "id": "023f38cb-0850-4aa5-b3c9-4a2e676ce624",
   "metadata": {},
   "source": [
    "## 2.DATA\n",
    "This isthe data we're using "
   ]
  },
  {
   "cell_type": "code",
   "execution_count": 16,
   "id": "afd8d773-cdcb-4fbf-a1fb-0ceeb7de0e60",
   "metadata": {},
   "outputs": [
    {
     "name": "stdout",
     "output_type": "stream",
     "text": [
      " Volume in drive C is Windows\n",
      " Volume Serial Number is 5A22-0880\n",
      "\n",
      " Directory of C:\\Users\\EZEEN\\Downloads\\ML PROJECTS\n",
      "\n",
      "06/11/2024  11:45    <DIR>          .\n",
      "06/11/2024  11:33    <DIR>          ..\n",
      "06/11/2024  11:44    <DIR>          .ipynb_checkpoints\n",
      "06/11/2024  11:33           332,025 6-step-ml-framework.png\n",
      "31/10/2024  18:33            63,503 init.htm\n",
      "06/11/2024  11:43           239,607 MACHINE-LEARNING-101.ipynb\n",
      "28/10/2024  22:13         1,477,391 magic04.data\n",
      "06/11/2024  11:45             2,821 New-ML.ipynb\n",
      "               5 File(s)      2,115,347 bytes\n",
      "               3 Dir(s)  328,811,483,136 bytes free\n"
     ]
    }
   ],
   "source": []
  },
  {
   "cell_type": "markdown",
   "id": "a7f08ff0-6a27-4825-80ed-7c858e554504",
   "metadata": {},
   "source": []
  },
  {
   "cell_type": "code",
   "execution_count": null,
   "id": "c2f23f70-70dc-4770-a825-8e630309f0b7",
   "metadata": {},
   "outputs": [],
   "source": []
  }
 ],
 "metadata": {
  "kernelspec": {
   "display_name": "Python 3 (ipykernel)",
   "language": "python",
   "name": "python3"
  },
  "language_info": {
   "codemirror_mode": {
    "name": "ipython",
    "version": 3
   },
   "file_extension": ".py",
   "mimetype": "text/x-python",
   "name": "python",
   "nbconvert_exporter": "python",
   "pygments_lexer": "ipython3",
   "version": "3.12.7"
  }
 },
 "nbformat": 4,
 "nbformat_minor": 5
}
